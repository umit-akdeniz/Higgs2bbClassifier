{
 "cells": [
  {
   "cell_type": "markdown",
   "metadata": {},
   "source": [
    "# Residual Model Training"
   ]
  },
  {
   "cell_type": "code",
   "metadata": {},
   "source": [
    "from src.train import *"
   ]
  }
 ],
 "metadata": {},
 "nbformat": 4,
 "nbformat_minor": 2
}
